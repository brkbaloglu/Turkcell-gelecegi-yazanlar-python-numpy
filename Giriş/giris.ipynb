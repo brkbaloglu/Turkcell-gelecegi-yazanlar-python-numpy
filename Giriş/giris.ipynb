{
 "cells": [
  {
   "cell_type": "code",
   "execution_count": 1,
   "id": "bd53f494-5d65-4403-a7cc-bfaf35def764",
   "metadata": {},
   "outputs": [
    {
     "name": "stdout",
     "output_type": "stream",
     "text": [
      "a\n"
     ]
    }
   ],
   "source": [
    "print(\"a\")"
   ]
  },
  {
   "cell_type": "markdown",
   "id": "5839b172-d502-45c6-aa8b-0c73ffaa03d5",
   "metadata": {},
   "source": [
    "Merhaba\n",
    "Herhangi başka şeyler de yazılabilir\n",
    "_italik_\n",
    "**bold**"
   ]
  },
  {
   "cell_type": "code",
   "execution_count": 2,
   "id": "e4c93e91-e363-4acd-bed1-dd49ec1958af",
   "metadata": {},
   "outputs": [
    {
     "data": {
      "text/plain": [
       "'a'"
      ]
     },
     "execution_count": 2,
     "metadata": {},
     "output_type": "execute_result"
    }
   ],
   "source": [
    "\"a\""
   ]
  },
  {
   "cell_type": "code",
   "execution_count": null,
   "id": "7caa98b7-d055-4881-b915-ebb20f0cbc7d",
   "metadata": {},
   "outputs": [],
   "source": [
    "#MERHABA"
   ]
  },
  {
   "cell_type": "code",
   "execution_count": null,
   "id": "d9114935-18b1-4337-8648-72b06fe49d48",
   "metadata": {},
   "outputs": [],
   "source": []
  }
 ],
 "metadata": {
  "kernelspec": {
   "display_name": "Python 3 (ipykernel)",
   "language": "python",
   "name": "python3"
  },
  "language_info": {
   "codemirror_mode": {
    "name": "ipython",
    "version": 3
   },
   "file_extension": ".py",
   "mimetype": "text/x-python",
   "name": "python",
   "nbconvert_exporter": "python",
   "pygments_lexer": "ipython3",
   "version": "3.10.9"
  }
 },
 "nbformat": 4,
 "nbformat_minor": 5
}
