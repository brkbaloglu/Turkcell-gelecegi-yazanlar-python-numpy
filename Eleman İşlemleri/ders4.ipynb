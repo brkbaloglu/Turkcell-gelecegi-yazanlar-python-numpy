{
 "cells": [
  {
   "cell_type": "markdown",
   "id": "fa767ccd-9754-4c3d-8173-e18a0ae72894",
   "metadata": {},
   "source": [
    "# Fancy Index ile Elemanlara Erişmek"
   ]
  },
  {
   "cell_type": "code",
   "execution_count": 1,
   "id": "a2b75c8a-c023-4930-b140-0904542401d0",
   "metadata": {},
   "outputs": [],
   "source": [
    "import numpy as np"
   ]
  },
  {
   "cell_type": "code",
   "execution_count": 2,
   "id": "9a62b80c-469b-4ec0-b15c-20cf8496aacf",
   "metadata": {},
   "outputs": [],
   "source": [
    "v = np.arange(0, 30, 3)"
   ]
  },
  {
   "cell_type": "code",
   "execution_count": 3,
   "id": "4bb1dcd0-bda6-4be3-a670-8020bc17e0c5",
   "metadata": {},
   "outputs": [
    {
     "data": {
      "text/plain": [
       "array([ 0,  3,  6,  9, 12, 15, 18, 21, 24, 27])"
      ]
     },
     "execution_count": 3,
     "metadata": {},
     "output_type": "execute_result"
    }
   ],
   "source": [
    "v"
   ]
  },
  {
   "cell_type": "code",
   "execution_count": 4,
   "id": "6ca75355-4293-4585-9d1c-d1033c006e03",
   "metadata": {},
   "outputs": [
    {
     "data": {
      "text/plain": [
       "3"
      ]
     },
     "execution_count": 4,
     "metadata": {},
     "output_type": "execute_result"
    }
   ],
   "source": [
    "v[1]"
   ]
  },
  {
   "cell_type": "code",
   "execution_count": 5,
   "id": "870df326-b027-481a-9854-70ea2594214f",
   "metadata": {},
   "outputs": [
    {
     "data": {
      "text/plain": [
       "9"
      ]
     },
     "execution_count": 5,
     "metadata": {},
     "output_type": "execute_result"
    }
   ],
   "source": [
    "v[3]"
   ]
  },
  {
   "cell_type": "code",
   "execution_count": 6,
   "id": "f25fa047-1d82-450e-9af5-596158aacd52",
   "metadata": {},
   "outputs": [
    {
     "data": {
      "text/plain": [
       "15"
      ]
     },
     "execution_count": 6,
     "metadata": {},
     "output_type": "execute_result"
    }
   ],
   "source": [
    "v[5]"
   ]
  },
  {
   "cell_type": "code",
   "execution_count": 7,
   "id": "0840cb77-9596-43bb-8f0f-7483e21e06d9",
   "metadata": {},
   "outputs": [
    {
     "data": {
      "text/plain": [
       "[3, 9, 15]"
      ]
     },
     "execution_count": 7,
     "metadata": {},
     "output_type": "execute_result"
    }
   ],
   "source": [
    "[v[1], v[3], v[5]]"
   ]
  },
  {
   "cell_type": "code",
   "execution_count": 8,
   "id": "b2c68d74-db73-491d-80f1-a36bfd12efbf",
   "metadata": {},
   "outputs": [],
   "source": [
    "al_getir = [1,3,5]"
   ]
  },
  {
   "cell_type": "code",
   "execution_count": 9,
   "id": "f797b51c-2351-447e-90db-6cf0b2f768ec",
   "metadata": {},
   "outputs": [
    {
     "data": {
      "text/plain": [
       "array([ 0,  3,  6,  9, 12, 15, 18, 21, 24, 27])"
      ]
     },
     "execution_count": 9,
     "metadata": {},
     "output_type": "execute_result"
    }
   ],
   "source": [
    "v"
   ]
  },
  {
   "cell_type": "code",
   "execution_count": 10,
   "id": "217b3011-65cd-44eb-bbaf-6d7ab1f7fe42",
   "metadata": {},
   "outputs": [
    {
     "data": {
      "text/plain": [
       "array([ 3,  9, 15])"
      ]
     },
     "execution_count": 10,
     "metadata": {},
     "output_type": "execute_result"
    }
   ],
   "source": [
    "v[al_getir]"
   ]
  },
  {
   "cell_type": "code",
   "execution_count": 11,
   "id": "f19b6de4-7fc1-43a3-9491-188868892c19",
   "metadata": {},
   "outputs": [],
   "source": [
    "# iki boyutta fancy"
   ]
  },
  {
   "cell_type": "code",
   "execution_count": 12,
   "id": "2cc0baf9-11a6-4c39-8a86-948b04b173c0",
   "metadata": {},
   "outputs": [],
   "source": [
    "m = np.arange(9). reshape(3,3)"
   ]
  },
  {
   "cell_type": "code",
   "execution_count": 13,
   "id": "4b367a61-979a-4826-92e9-bf72fb6327a4",
   "metadata": {},
   "outputs": [
    {
     "data": {
      "text/plain": [
       "array([[0, 1, 2],\n",
       "       [3, 4, 5],\n",
       "       [6, 7, 8]])"
      ]
     },
     "execution_count": 13,
     "metadata": {},
     "output_type": "execute_result"
    }
   ],
   "source": [
    "m"
   ]
  },
  {
   "cell_type": "code",
   "execution_count": 14,
   "id": "7743f9c5-231e-4537-b01b-c7e9cc7ec952",
   "metadata": {},
   "outputs": [],
   "source": [
    "satir = np.array([0,1])"
   ]
  },
  {
   "cell_type": "code",
   "execution_count": 15,
   "id": "fe110eaf-5d7b-41f6-8060-5f2c73bdfa45",
   "metadata": {},
   "outputs": [],
   "source": [
    "sutun = np.array([1,2])"
   ]
  },
  {
   "cell_type": "code",
   "execution_count": 16,
   "id": "8a0e8dbd-6c06-4d0d-8faa-9fbbf881db23",
   "metadata": {},
   "outputs": [
    {
     "data": {
      "text/plain": [
       "array([1, 5])"
      ]
     },
     "execution_count": 16,
     "metadata": {},
     "output_type": "execute_result"
    }
   ],
   "source": [
    "m[satir, sutun]"
   ]
  },
  {
   "cell_type": "code",
   "execution_count": 17,
   "id": "d5b62c76-5d3f-4481-95d8-1be3a39ee276",
   "metadata": {},
   "outputs": [],
   "source": [
    "# basit index ile fancy index"
   ]
  },
  {
   "cell_type": "code",
   "execution_count": 18,
   "id": "f707e993-3d74-4375-ba72-4b18d9a7354c",
   "metadata": {},
   "outputs": [
    {
     "data": {
      "text/plain": [
       "array([[0, 1, 2],\n",
       "       [3, 4, 5],\n",
       "       [6, 7, 8]])"
      ]
     },
     "execution_count": 18,
     "metadata": {},
     "output_type": "execute_result"
    }
   ],
   "source": [
    "m"
   ]
  },
  {
   "cell_type": "code",
   "execution_count": 19,
   "id": "bc4cce0f-61c8-4380-81fa-399341aed779",
   "metadata": {},
   "outputs": [
    {
     "data": {
      "text/plain": [
       "array([1, 2])"
      ]
     },
     "execution_count": 19,
     "metadata": {},
     "output_type": "execute_result"
    }
   ],
   "source": [
    "m[0,[1,2]]"
   ]
  },
  {
   "cell_type": "code",
   "execution_count": 20,
   "id": "c6ff8e85-abf6-44cd-bc4b-10a34058d11c",
   "metadata": {},
   "outputs": [],
   "source": [
    "#slice ile fancy"
   ]
  },
  {
   "cell_type": "code",
   "execution_count": 22,
   "id": "d146c8bc-6b92-417b-9de1-d356bdb64ead",
   "metadata": {},
   "outputs": [
    {
     "data": {
      "text/plain": [
       "array([[1, 2],\n",
       "       [4, 5],\n",
       "       [7, 8]])"
      ]
     },
     "execution_count": 22,
     "metadata": {},
     "output_type": "execute_result"
    }
   ],
   "source": [
    "m[0:, [1,2]]"
   ]
  },
  {
   "cell_type": "code",
   "execution_count": null,
   "id": "b0f15cb1-aff1-4020-b5a4-90f45bfa65d3",
   "metadata": {},
   "outputs": [],
   "source": []
  }
 ],
 "metadata": {
  "kernelspec": {
   "display_name": "Python 3 (ipykernel)",
   "language": "python",
   "name": "python3"
  },
  "language_info": {
   "codemirror_mode": {
    "name": "ipython",
    "version": 3
   },
   "file_extension": ".py",
   "mimetype": "text/x-python",
   "name": "python",
   "nbconvert_exporter": "python",
   "pygments_lexer": "ipython3",
   "version": "3.10.9"
  }
 },
 "nbformat": 4,
 "nbformat_minor": 5
}
