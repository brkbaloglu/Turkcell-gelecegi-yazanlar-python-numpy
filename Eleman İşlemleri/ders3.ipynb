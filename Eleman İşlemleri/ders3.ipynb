{
 "cells": [
  {
   "cell_type": "markdown",
   "id": "96ef129e-1223-4658-a4b5-d41efc66035d",
   "metadata": {},
   "source": [
    "# Alt Küme Üzerinde İşlem Yapma "
   ]
  },
  {
   "cell_type": "code",
   "execution_count": 1,
   "id": "3449f028-af8b-472f-885b-73eefbf33e69",
   "metadata": {},
   "outputs": [],
   "source": [
    "import numpy as np"
   ]
  },
  {
   "cell_type": "code",
   "execution_count": 2,
   "id": "e394ec03-531c-4204-8cea-6796f543a51e",
   "metadata": {},
   "outputs": [],
   "source": [
    "a = np.random.randint(10, size = (5,5))"
   ]
  },
  {
   "cell_type": "code",
   "execution_count": 3,
   "id": "9ba8b18e-6d96-4e1d-ae46-9f2a54c0395c",
   "metadata": {},
   "outputs": [
    {
     "data": {
      "text/plain": [
       "array([[8, 3, 5, 7, 2],\n",
       "       [4, 0, 0, 4, 0],\n",
       "       [5, 1, 1, 3, 5],\n",
       "       [0, 4, 8, 6, 1],\n",
       "       [1, 4, 4, 3, 5]])"
      ]
     },
     "execution_count": 3,
     "metadata": {},
     "output_type": "execute_result"
    }
   ],
   "source": [
    "a"
   ]
  },
  {
   "cell_type": "code",
   "execution_count": 4,
   "id": "ff6b6fc9-396b-4f39-a8e6-636a47bcbf0b",
   "metadata": {},
   "outputs": [],
   "source": [
    "alt_a = a[0:3, 0:2]"
   ]
  },
  {
   "cell_type": "code",
   "execution_count": 5,
   "id": "128050b6-e9d8-4c38-afab-24063bfa3f42",
   "metadata": {},
   "outputs": [
    {
     "data": {
      "text/plain": [
       "array([[8, 3],\n",
       "       [4, 0],\n",
       "       [5, 1]])"
      ]
     },
     "execution_count": 5,
     "metadata": {},
     "output_type": "execute_result"
    }
   ],
   "source": [
    "alt_a"
   ]
  },
  {
   "cell_type": "code",
   "execution_count": 6,
   "id": "119c27d3-56e5-48d8-a05f-ec864bc35c73",
   "metadata": {},
   "outputs": [],
   "source": [
    "alt_a[0,0] = 99999"
   ]
  },
  {
   "cell_type": "code",
   "execution_count": 7,
   "id": "a6e65929-1874-4f8c-a1de-0d4d56e009b6",
   "metadata": {},
   "outputs": [],
   "source": [
    "alt_a[1,1] = 888"
   ]
  },
  {
   "cell_type": "code",
   "execution_count": 8,
   "id": "0af952c8-1ea0-4d60-b1b5-f0f0d7ef2dd9",
   "metadata": {},
   "outputs": [
    {
     "data": {
      "text/plain": [
       "array([[99999,     3],\n",
       "       [    4,   888],\n",
       "       [    5,     1]])"
      ]
     },
     "execution_count": 8,
     "metadata": {},
     "output_type": "execute_result"
    }
   ],
   "source": [
    "alt_a"
   ]
  },
  {
   "cell_type": "code",
   "execution_count": 9,
   "id": "1e8d25ca-6253-48b0-8c0c-ddd231b2b99f",
   "metadata": {},
   "outputs": [
    {
     "data": {
      "text/plain": [
       "array([[99999,     3,     5,     7,     2],\n",
       "       [    4,   888,     0,     4,     0],\n",
       "       [    5,     1,     1,     3,     5],\n",
       "       [    0,     4,     8,     6,     1],\n",
       "       [    1,     4,     4,     3,     5]])"
      ]
     },
     "execution_count": 9,
     "metadata": {},
     "output_type": "execute_result"
    }
   ],
   "source": [
    "a"
   ]
  },
  {
   "cell_type": "code",
   "execution_count": 10,
   "id": "8beed533-240b-4562-910b-9b4393cdb977",
   "metadata": {},
   "outputs": [],
   "source": [
    "m = np.random.randint(10, size = (5,5))"
   ]
  },
  {
   "cell_type": "code",
   "execution_count": 11,
   "id": "6e2f94ce-2b18-4b16-8f64-5421266b9f16",
   "metadata": {},
   "outputs": [
    {
     "data": {
      "text/plain": [
       "array([[6, 2, 2, 9, 5],\n",
       "       [2, 7, 1, 0, 5],\n",
       "       [4, 8, 8, 9, 1],\n",
       "       [0, 5, 4, 5, 0],\n",
       "       [3, 1, 0, 0, 6]])"
      ]
     },
     "execution_count": 11,
     "metadata": {},
     "output_type": "execute_result"
    }
   ],
   "source": [
    "m"
   ]
  },
  {
   "cell_type": "code",
   "execution_count": 12,
   "id": "67027ac5-0dd7-4cd4-a36c-16a8a557b092",
   "metadata": {},
   "outputs": [],
   "source": [
    "alt_b = m[0:3, 0:2].copy()"
   ]
  },
  {
   "cell_type": "code",
   "execution_count": 13,
   "id": "f7f09509-660e-45f3-b0ca-aaf0ebc71dbe",
   "metadata": {},
   "outputs": [
    {
     "data": {
      "text/plain": [
       "array([[6, 2],\n",
       "       [2, 7],\n",
       "       [4, 8]])"
      ]
     },
     "execution_count": 13,
     "metadata": {},
     "output_type": "execute_result"
    }
   ],
   "source": [
    "alt_b"
   ]
  },
  {
   "cell_type": "code",
   "execution_count": 14,
   "id": "c92a5b60-59eb-4eac-83cd-f70040d6dbce",
   "metadata": {},
   "outputs": [],
   "source": [
    "alt_b[0,0] = 9999"
   ]
  },
  {
   "cell_type": "code",
   "execution_count": 15,
   "id": "9eea46cb-0780-4cae-963f-e531d3e9fefc",
   "metadata": {},
   "outputs": [
    {
     "data": {
      "text/plain": [
       "array([[9999,    2],\n",
       "       [   2,    7],\n",
       "       [   4,    8]])"
      ]
     },
     "execution_count": 15,
     "metadata": {},
     "output_type": "execute_result"
    }
   ],
   "source": [
    "alt_b"
   ]
  },
  {
   "cell_type": "code",
   "execution_count": 16,
   "id": "383b01b5-364a-4347-852f-07e3228795b5",
   "metadata": {},
   "outputs": [
    {
     "data": {
      "text/plain": [
       "array([[6, 2, 2, 9, 5],\n",
       "       [2, 7, 1, 0, 5],\n",
       "       [4, 8, 8, 9, 1],\n",
       "       [0, 5, 4, 5, 0],\n",
       "       [3, 1, 0, 0, 6]])"
      ]
     },
     "execution_count": 16,
     "metadata": {},
     "output_type": "execute_result"
    }
   ],
   "source": [
    "m"
   ]
  },
  {
   "cell_type": "code",
   "execution_count": null,
   "id": "a304be94-f16f-4fcd-9d8b-65ff69e57949",
   "metadata": {},
   "outputs": [],
   "source": []
  }
 ],
 "metadata": {
  "kernelspec": {
   "display_name": "Python 3 (ipykernel)",
   "language": "python",
   "name": "python3"
  },
  "language_info": {
   "codemirror_mode": {
    "name": "ipython",
    "version": 3
   },
   "file_extension": ".py",
   "mimetype": "text/x-python",
   "name": "python",
   "nbconvert_exporter": "python",
   "pygments_lexer": "ipython3",
   "version": "3.10.9"
  }
 },
 "nbformat": 4,
 "nbformat_minor": 5
}
