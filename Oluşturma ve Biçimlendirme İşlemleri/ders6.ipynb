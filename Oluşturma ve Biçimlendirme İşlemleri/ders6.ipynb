{
 "cells": [
  {
   "cell_type": "markdown",
   "id": "8beb8d98-3cc5-4a6a-9637-36488a4437fd",
   "metadata": {},
   "source": [
    "# Array Sıralama (sorting)"
   ]
  },
  {
   "cell_type": "code",
   "execution_count": 2,
   "id": "87d56650-9ac3-4415-972f-4bf11545525e",
   "metadata": {},
   "outputs": [],
   "source": [
    "import numpy as np"
   ]
  },
  {
   "cell_type": "code",
   "execution_count": 3,
   "id": "68f87e1d-224a-427d-852e-242b74ed51ae",
   "metadata": {},
   "outputs": [],
   "source": [
    "v = np.array([2,1,4,3,5])"
   ]
  },
  {
   "cell_type": "code",
   "execution_count": 4,
   "id": "ec96f8ba-b9c5-4920-85d3-288fc6f6896b",
   "metadata": {},
   "outputs": [
    {
     "data": {
      "text/plain": [
       "array([2, 1, 4, 3, 5])"
      ]
     },
     "execution_count": 4,
     "metadata": {},
     "output_type": "execute_result"
    }
   ],
   "source": [
    "v"
   ]
  },
  {
   "cell_type": "code",
   "execution_count": 5,
   "id": "ff415f83-05bc-4d25-bd48-4ed086d785b6",
   "metadata": {},
   "outputs": [
    {
     "data": {
      "text/plain": [
       "array([1, 2, 3, 4, 5])"
      ]
     },
     "execution_count": 5,
     "metadata": {},
     "output_type": "execute_result"
    }
   ],
   "source": [
    "np.sort(v)"
   ]
  },
  {
   "cell_type": "code",
   "execution_count": 6,
   "id": "b2cab7d2-2f2b-4360-8076-1ba1f215c662",
   "metadata": {},
   "outputs": [
    {
     "data": {
      "text/plain": [
       "array([2, 1, 4, 3, 5])"
      ]
     },
     "execution_count": 6,
     "metadata": {},
     "output_type": "execute_result"
    }
   ],
   "source": [
    "v"
   ]
  },
  {
   "cell_type": "code",
   "execution_count": 7,
   "id": "269ed3ae-d634-4693-b1bf-39beebd318a1",
   "metadata": {},
   "outputs": [],
   "source": [
    "v.sort()"
   ]
  },
  {
   "cell_type": "code",
   "execution_count": 8,
   "id": "6193d39f-74c8-420c-97c4-c06c5179c408",
   "metadata": {},
   "outputs": [
    {
     "data": {
      "text/plain": [
       "array([1, 2, 3, 4, 5])"
      ]
     },
     "execution_count": 8,
     "metadata": {},
     "output_type": "execute_result"
    }
   ],
   "source": [
    "v"
   ]
  },
  {
   "cell_type": "code",
   "execution_count": 9,
   "id": "d022e319-7ab0-4d83-a541-387e9fe6fd88",
   "metadata": {},
   "outputs": [],
   "source": [
    "# iki boyutlu"
   ]
  },
  {
   "cell_type": "code",
   "execution_count": 12,
   "id": "ddcea628-7744-4d62-83e7-20af7d911a74",
   "metadata": {},
   "outputs": [],
   "source": [
    "m = np.random.normal(20,5, (3,3))"
   ]
  },
  {
   "cell_type": "code",
   "execution_count": 13,
   "id": "202045da-8460-4c84-a9f7-da0365e6fadd",
   "metadata": {},
   "outputs": [
    {
     "data": {
      "text/plain": [
       "array([[14.50142027, 28.08827625, 15.76254699],\n",
       "       [22.18058283, 24.16248176, 19.65311637],\n",
       "       [15.30028864, 30.52779186, 16.65039398]])"
      ]
     },
     "execution_count": 13,
     "metadata": {},
     "output_type": "execute_result"
    }
   ],
   "source": [
    "m"
   ]
  },
  {
   "cell_type": "code",
   "execution_count": 14,
   "id": "558c0d88-3f50-415f-8db0-2a898f1f81fc",
   "metadata": {},
   "outputs": [
    {
     "data": {
      "text/plain": [
       "array([[14.50142027, 15.76254699, 28.08827625],\n",
       "       [19.65311637, 22.18058283, 24.16248176],\n",
       "       [15.30028864, 16.65039398, 30.52779186]])"
      ]
     },
     "execution_count": 14,
     "metadata": {},
     "output_type": "execute_result"
    }
   ],
   "source": [
    "np.sort(m, axis = 1)"
   ]
  },
  {
   "cell_type": "code",
   "execution_count": 15,
   "id": "d37f58fc-3473-4182-8522-60be535b0486",
   "metadata": {},
   "outputs": [
    {
     "data": {
      "text/plain": [
       "array([[14.50142027, 24.16248176, 15.76254699],\n",
       "       [15.30028864, 28.08827625, 16.65039398],\n",
       "       [22.18058283, 30.52779186, 19.65311637]])"
      ]
     },
     "execution_count": 15,
     "metadata": {},
     "output_type": "execute_result"
    }
   ],
   "source": [
    "np.sort(m, axis = 0)"
   ]
  },
  {
   "cell_type": "code",
   "execution_count": null,
   "id": "d65b2035-da9d-4906-baef-bac60e6c857b",
   "metadata": {},
   "outputs": [],
   "source": []
  }
 ],
 "metadata": {
  "kernelspec": {
   "display_name": "Python 3 (ipykernel)",
   "language": "python",
   "name": "python3"
  },
  "language_info": {
   "codemirror_mode": {
    "name": "ipython",
    "version": 3
   },
   "file_extension": ".py",
   "mimetype": "text/x-python",
   "name": "python",
   "nbconvert_exporter": "python",
   "pygments_lexer": "ipython3",
   "version": "3.10.9"
  }
 },
 "nbformat": 4,
 "nbformat_minor": 5
}
